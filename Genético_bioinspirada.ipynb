{
  "nbformat": 4,
  "nbformat_minor": 0,
  "metadata": {
    "colab": {
      "name": "Genético_bioinspirada.ipynb",
      "provenance": [],
      "collapsed_sections": [],
      "include_colab_link": true
    },
    "kernelspec": {
      "name": "python3",
      "display_name": "Python 3"
    }
  },
  "cells": [
    {
      "cell_type": "markdown",
      "metadata": {
        "id": "view-in-github",
        "colab_type": "text"
      },
      "source": [
        "<a href=\"https://colab.research.google.com/github/ivangd97/bioinspirada_genetico/blob/master/Gen%C3%A9tico_bioinspirada.ipynb\" target=\"_parent\"><img src=\"https://colab.research.google.com/assets/colab-badge.svg\" alt=\"Open In Colab\"/></a>"
      ]
    },
    {
      "cell_type": "code",
      "metadata": {
        "id": "N8R86ry3BH7s",
        "colab_type": "code",
        "colab": {}
      },
      "source": [
        "#cargador de ciudades si quisieramos hacerlo con coordenadas\n",
        "#NO USAR POR AHORA\n",
        "def cargarCiudades(archivo):\n",
        "  fcd = open(archivo,\"r\")\n",
        "  lineas = fcd.readlines()\n",
        "  fcd.close()\n",
        "  ciudades = [] #Se crea una lista de ciudades\n",
        "  for i, linea in enumerate (lineas):\n",
        "    nums = linea.split(\" \")\n",
        "    #Agrega una ciudad a la lista\n",
        "    ciudades.append( ciudad(i, float(nums[0]), float(nums[1])) )\n",
        "  return ciudades"
      ],
      "execution_count": 0,
      "outputs": []
    },
    {
      "cell_type": "code",
      "metadata": {
        "id": "JZ87hesoAjZi",
        "colab_type": "code",
        "outputId": "748d6f8b-d02a-46c0-bb0e-03a5d5f4c98d",
        "colab": {
          "base_uri": "https://localhost:8080/",
          "height": 382
        }
      },
      "source": [
        "import numpy as np\n",
        "import random\n",
        "random.seed(0)\n",
        "\n",
        "def generarDistancias(numCiudades):\n",
        "  distancias = np.random.randint(0, 1000,(numCiudades,numCiudades))\n",
        "  for i in range(numCiudades):\n",
        "    for j in range(numCiudades):\n",
        "      if(i == j):\n",
        "        distancias[i][j] = 0\n",
        "  return distancias\n",
        "\n",
        "def generarCaminos(numCiudades):\n",
        "  camino = []\n",
        "  caminos = []\n",
        "  for i in range(numCiudades):\n",
        "    camino.append(i)\n",
        "  caminos.append(camino)\n",
        "  for i in range(99):\n",
        "    caminoaux = random.sample(camino,len(camino))\n",
        "    caminos.append(caminoaux)\n",
        "  return caminos\n",
        "\n",
        "def ordenarCaminos(distancias, caminos):\n",
        "  for i in range(len(caminos)-1,0,-1):\n",
        "    for j in range(i):\n",
        "      acum = 0\n",
        "      if suma(distancias,caminos[i],i) > suma(distancias,caminos[i+1],i+1):\n",
        "        temp = caminos[i]\n",
        "        caminos[i] = caminos[i+1]\n",
        "        caminos[i+1] = temp\n",
        "  return caminos\n",
        "\n",
        "def suma(distancias,camino, selector):\n",
        "  acum = 0\n",
        "  for i in range(len(camino)):\n",
        "    acum = acum + distancias[camino[i]][selector]\n",
        "    print(acum)\n",
        "  return acum\n",
        "\n",
        "ciudades = 5\n",
        "vectorDistancias = generarDistancias(ciudades)\n",
        "vectorCaminos = generarCaminos(ciudades)\n",
        "vectorCaminos = ordenarCaminos(vectorDistancias,vectorCaminos)\n",
        "print()\n",
        "print(aux)\n"
      ],
      "execution_count": 0,
      "outputs": [
        {
          "output_type": "error",
          "ename": "IndexError",
          "evalue": "ignored",
          "traceback": [
            "\u001b[0;31m---------------------------------------------------------------------------\u001b[0m",
            "\u001b[0;31mIndexError\u001b[0m                                Traceback (most recent call last)",
            "\u001b[0;32m<ipython-input-86-07bab09563fc>\u001b[0m in \u001b[0;36m<module>\u001b[0;34m()\u001b[0m\n\u001b[1;32m     42\u001b[0m \u001b[0mvectorDistancias\u001b[0m \u001b[0;34m=\u001b[0m \u001b[0mgenerarDistancias\u001b[0m\u001b[0;34m(\u001b[0m\u001b[0mciudades\u001b[0m\u001b[0;34m)\u001b[0m\u001b[0;34m\u001b[0m\u001b[0;34m\u001b[0m\u001b[0m\n\u001b[1;32m     43\u001b[0m \u001b[0mvectorCaminos\u001b[0m \u001b[0;34m=\u001b[0m \u001b[0mgenerarCaminos\u001b[0m\u001b[0;34m(\u001b[0m\u001b[0mciudades\u001b[0m\u001b[0;34m)\u001b[0m\u001b[0;34m\u001b[0m\u001b[0;34m\u001b[0m\u001b[0m\n\u001b[0;32m---> 44\u001b[0;31m \u001b[0mvectorCaminos\u001b[0m \u001b[0;34m=\u001b[0m \u001b[0mordenarCaminos\u001b[0m\u001b[0;34m(\u001b[0m\u001b[0mvectorDistancias\u001b[0m\u001b[0;34m,\u001b[0m\u001b[0mvectorCaminos\u001b[0m\u001b[0;34m)\u001b[0m\u001b[0;34m\u001b[0m\u001b[0;34m\u001b[0m\u001b[0m\n\u001b[0m\u001b[1;32m     45\u001b[0m \u001b[0mprint\u001b[0m\u001b[0;34m(\u001b[0m\u001b[0;34m)\u001b[0m\u001b[0;34m\u001b[0m\u001b[0;34m\u001b[0m\u001b[0m\n\u001b[1;32m     46\u001b[0m \u001b[0mprint\u001b[0m\u001b[0;34m(\u001b[0m\u001b[0maux\u001b[0m\u001b[0;34m)\u001b[0m\u001b[0;34m\u001b[0m\u001b[0;34m\u001b[0m\u001b[0m\n",
            "\u001b[0;32m<ipython-input-86-07bab09563fc>\u001b[0m in \u001b[0;36mordenarCaminos\u001b[0;34m(distancias, caminos)\u001b[0m\n\u001b[1;32m     26\u001b[0m     \u001b[0;32mfor\u001b[0m \u001b[0mj\u001b[0m \u001b[0;32min\u001b[0m \u001b[0mrange\u001b[0m\u001b[0;34m(\u001b[0m\u001b[0mi\u001b[0m\u001b[0;34m)\u001b[0m\u001b[0;34m:\u001b[0m\u001b[0;34m\u001b[0m\u001b[0;34m\u001b[0m\u001b[0m\n\u001b[1;32m     27\u001b[0m       \u001b[0macum\u001b[0m \u001b[0;34m=\u001b[0m \u001b[0;36m0\u001b[0m\u001b[0;34m\u001b[0m\u001b[0;34m\u001b[0m\u001b[0m\n\u001b[0;32m---> 28\u001b[0;31m       \u001b[0;32mif\u001b[0m \u001b[0msuma\u001b[0m\u001b[0;34m(\u001b[0m\u001b[0mdistancias\u001b[0m\u001b[0;34m,\u001b[0m\u001b[0mcaminos\u001b[0m\u001b[0;34m[\u001b[0m\u001b[0mi\u001b[0m\u001b[0;34m]\u001b[0m\u001b[0;34m,\u001b[0m\u001b[0mi\u001b[0m\u001b[0;34m)\u001b[0m \u001b[0;34m>\u001b[0m \u001b[0msuma\u001b[0m\u001b[0;34m(\u001b[0m\u001b[0mdistancias\u001b[0m\u001b[0;34m,\u001b[0m\u001b[0mcaminos\u001b[0m\u001b[0;34m[\u001b[0m\u001b[0mi\u001b[0m\u001b[0;34m+\u001b[0m\u001b[0;36m1\u001b[0m\u001b[0;34m]\u001b[0m\u001b[0;34m,\u001b[0m\u001b[0mi\u001b[0m\u001b[0;34m)\u001b[0m\u001b[0;34m:\u001b[0m\u001b[0;34m\u001b[0m\u001b[0;34m\u001b[0m\u001b[0m\n\u001b[0m\u001b[1;32m     29\u001b[0m         \u001b[0mtemp\u001b[0m \u001b[0;34m=\u001b[0m \u001b[0mcaminos\u001b[0m\u001b[0;34m[\u001b[0m\u001b[0mi\u001b[0m\u001b[0;34m]\u001b[0m\u001b[0;34m\u001b[0m\u001b[0;34m\u001b[0m\u001b[0m\n\u001b[1;32m     30\u001b[0m         \u001b[0mcaminos\u001b[0m\u001b[0;34m[\u001b[0m\u001b[0mi\u001b[0m\u001b[0;34m]\u001b[0m \u001b[0;34m=\u001b[0m \u001b[0mcaminos\u001b[0m\u001b[0;34m[\u001b[0m\u001b[0mi\u001b[0m\u001b[0;34m+\u001b[0m\u001b[0;36m1\u001b[0m\u001b[0;34m]\u001b[0m\u001b[0;34m\u001b[0m\u001b[0;34m\u001b[0m\u001b[0m\n",
            "\u001b[0;32m<ipython-input-86-07bab09563fc>\u001b[0m in \u001b[0;36msuma\u001b[0;34m(distancias, camino, selector)\u001b[0m\n\u001b[1;32m     35\u001b[0m   \u001b[0macum\u001b[0m \u001b[0;34m=\u001b[0m \u001b[0;36m0\u001b[0m\u001b[0;34m\u001b[0m\u001b[0;34m\u001b[0m\u001b[0m\n\u001b[1;32m     36\u001b[0m   \u001b[0;32mfor\u001b[0m \u001b[0mi\u001b[0m \u001b[0;32min\u001b[0m \u001b[0mrange\u001b[0m\u001b[0;34m(\u001b[0m\u001b[0mlen\u001b[0m\u001b[0;34m(\u001b[0m\u001b[0mcamino\u001b[0m\u001b[0;34m)\u001b[0m\u001b[0;34m)\u001b[0m\u001b[0;34m:\u001b[0m\u001b[0;34m\u001b[0m\u001b[0;34m\u001b[0m\u001b[0m\n\u001b[0;32m---> 37\u001b[0;31m     \u001b[0macum\u001b[0m \u001b[0;34m=\u001b[0m \u001b[0macum\u001b[0m \u001b[0;34m+\u001b[0m \u001b[0mdistancias\u001b[0m\u001b[0;34m[\u001b[0m\u001b[0mcamino\u001b[0m\u001b[0;34m[\u001b[0m\u001b[0mi\u001b[0m\u001b[0;34m]\u001b[0m\u001b[0;34m]\u001b[0m\u001b[0;34m[\u001b[0m\u001b[0mselector\u001b[0m\u001b[0;34m]\u001b[0m\u001b[0;34m\u001b[0m\u001b[0;34m\u001b[0m\u001b[0m\n\u001b[0m\u001b[1;32m     38\u001b[0m     \u001b[0mprint\u001b[0m\u001b[0;34m(\u001b[0m\u001b[0macum\u001b[0m\u001b[0;34m)\u001b[0m\u001b[0;34m\u001b[0m\u001b[0;34m\u001b[0m\u001b[0m\n\u001b[1;32m     39\u001b[0m   \u001b[0;32mreturn\u001b[0m \u001b[0macum\u001b[0m\u001b[0;34m\u001b[0m\u001b[0;34m\u001b[0m\u001b[0m\n",
            "\u001b[0;31mIndexError\u001b[0m: index 99 is out of bounds for axis 0 with size 5"
          ]
        }
      ]
    }
  ]
}